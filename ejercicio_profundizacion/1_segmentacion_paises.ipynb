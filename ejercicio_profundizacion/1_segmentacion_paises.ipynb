
{
 "cells": [
  {
   "cell_type": "markdown",
   "metadata": {
    "id": "Ea9CPlvttQda"
   },
   "source": [
    "<a href=\"https://www.inove.com.ar\"><img src=\"https://raw.githubusercontent.com/InoveAlumnos/dataset_analytics_python/master/images/PA%20Banner.png\" width=\"1000\" align=\"center\"></a>\n",
    "\n",
    "\n",
    "# Segmentación de países\n",
    "\n",
    "Crear un modelo de segmentación para la clasificación de paises por categoría (desarrollado, en desarrollo, subdesarollado) según sus datos a nivel macro<br>\n",
    "v1.1"
   ]
  },
  {
   "cell_type": "code",
   "execution_count": null,
   "metadata": {
    "executionInfo": {
     "elapsed": 1207,
     "status": "ok",
     "timestamp": 1604963003301,
     "user": {
      "displayName": "inove",
      "photoUrl": "https://lh3.googleusercontent.com/a-/AOh14GhXN9lpkKFLA5gp8tW9cD3CZ1yGa9DUy9HZOgZm=s64",
      "userId": "03494171924251581304"
     },
     "user_tz": 180
    },
    "id": "xJN8ND5ctQdc"
   },
   "outputs": [],
   "source": [
    "import os\n",
    "import platform\n",
    "\n",
    "import numpy as np\n",
    "import matplotlib.pyplot as plt\n",
    "import seaborn as sns\n",
    "import pandas as pd"
   ]
  },
  {
   "cell_type": "markdown",
   "metadata": {
    "id": "v-jK-TsQCwW9"
   },
   "source": [
    "# Recolectar datos\n",
    "<div align=\"center\"><img src=\"https://raw.githubusercontent.com/InoveAlumnos/dataset_analytics_python/master/images/Pipeline1.png\" width=\"1000\" align=\"middle\"></div>"
   ]
  },
  {
   "cell_type": "code",
   "execution_count": null,
   "metadata": {
    "executionInfo": {
     "elapsed": 1197,
     "status": "ok",
     "timestamp": 1604963003303,
     "user": {
      "displayName": "inove",
      "photoUrl": "https://lh3.googleusercontent.com/a-/AOh14GhXN9lpkKFLA5gp8tW9cD3CZ1yGa9DUy9HZOgZm=s64",
      "userId": "03494171924251581304"
     },
     "user_tz": 180
    },
    "id": "E7lED92mqYMN"
   },
   "outputs": [],
   "source": [
    "if os.access('Country-data.csv', os.F_OK) is False:\n",
    "    if platform.system() == 'Windows':\n",
    "        !curl https://raw.githubusercontent.com/InoveAlumnos/dataset_analytics_python/master/Country-data.csv > Country-data.csv\n",
    "    else:\n",
    "        !wget Country-data.csv https://raw.githubusercontent.com/InoveAlumnos/dataset_analytics_python/master/Country-data.csv"
   ]
  },
  {
   "cell_type": "markdown",
   "metadata": {
    "id": "7hYHWckmsssa"
   },
   "source": [
    "### `Country-data.csv`:\n",
    "El dataset **`Country-data.csv`** contiene datos a nivel macroeconomía, ingresos y poblacional sobre países del mundo para su segmentación.<br>\n",
    "[Dataset source](Country-data.csvn)\n",
    "- **country** --> nombre del país\n",
    "- **child_mort** --> cuantos niños menores a 5 años mueren de cada 1000\n",
    "- **exports** --> exportación de bienes y servicios per cápita\n",
    "- **health** --> inversiones en salud per cápita\n",
    "- **import** --> importación de bienes y servicios per cápita\n",
    "- **Income** --> ingresos por persona (neto)\n",
    "- **Inflation** --> inflación anual\n",
    "- **life_expec** --> Promedio de expectativa de vida\n",
    "- **total_fer** --> Cuantos niños por pareja hay en promedio\n",
    "- **gdpp** --> Producto bruto interno per cápita"
   ]
  },
  {
   "cell_type": "code",
   "execution_count": null,
   "metadata": {
    "executionInfo": {
     "elapsed": 1190,
     "status": "ok",
     "timestamp": 1604963003304,
     "user": {
      "displayName": "inove",
      "photoUrl": "https://lh3.googleusercontent.com/a-/AOh14GhXN9lpkKFLA5gp8tW9cD3CZ1yGa9DUy9HZOgZm=s64",
      "userId": "03494171924251581304"
     },
     "user_tz": 180
    },
    "id": "GChnsEZeszqi"
   },
   "outputs": [],
   "source": [
    "df = pd.read_csv(\"Country-data.csv\")"
   ]
  },
  {
   "cell_type": "markdown",
   "metadata": {
    "id": "Q5I6l8ZCFaZ8"
   },
   "source": [
    "# Procesar datos\n",
    "<div align=\"center\"><img src=\"https://raw.githubusercontent.com/InoveAlumnos/dataset_analytics_python/master/images/Pipeline2.png\" width=\"1000\" align=\"middle\"></div>"
   ]
  },
  {
   "cell_type": "code",
   "execution_count": null,
   "metadata": {
    "colab": {
     "base_uri": "https://localhost:8080/",
     "height": 204
    },
    "executionInfo": {
     "elapsed": 1181,
     "status": "ok",
     "timestamp": 1604963003305,
     "user": {
      "displayName": "inove",
      "photoUrl": "https://lh3.googleusercontent.com/a-/AOh14GhXN9lpkKFLA5gp8tW9cD3CZ1yGa9DUy9HZOgZm=s64",
      "userId": "03494171924251581304"
     },
     "user_tz": 180
    },
    "id": "Pp6NRggps5UE",
    "outputId": "41724a4e-f135-4e16-9783-f1dd54c9c4fd"
   },
   "outputs": [],
   "source": [
    "# Alumno, inspeccione el dataset, visualice las columnas que posee y sus primeras filas"
   ]
  },
  {
   "cell_type": "code",
   "execution_count": null,
   "metadata": {
    "colab": {
     "base_uri": "https://localhost:8080/",
     "height": 359
    },
    "executionInfo": {
     "elapsed": 1168,
     "status": "ok",
     "timestamp": 1604963003306,
     "user": {
      "displayName": "inove",
      "photoUrl": "https://lh3.googleusercontent.com/a-/AOh14GhXN9lpkKFLA5gp8tW9cD3CZ1yGa9DUy9HZOgZm=s64",
      "userId": "03494171924251581304"
     },
     "user_tz": 180
    },
    "id": "fQ3bTC9Ot5-h",
    "outputId": "c29b3152-bb74-4403-e9dc-3d6f208bdb49"
   },
   "outputs": [],
   "source": [
    "# Alumno, realice una inspeccion del dataset en búsqueda de elementos faltantes"
   ]
  },
  {
   "cell_type": "code",
   "execution_count": null,
   "metadata": {
    "colab": {
     "base_uri": "https://localhost:8080/"
    },
    "executionInfo": {
     "elapsed": 1156,
     "status": "ok",
     "timestamp": 1604963003308,
     "user": {
      "displayName": "inove",
      "photoUrl": "https://lh3.googleusercontent.com/a-/AOh14GhXN9lpkKFLA5gp8tW9cD3CZ1yGa9DUy9HZOgZm=s64",
      "userId": "03494171924251581304"
     },
     "user_tz": 180
    },
    "id": "x88JG9AOeJzx",
    "outputId": "c57c6fc0-5458-402c-c54b-8b370671cef8"
   },
   "outputs": [],
   "source": [
    "# Alumno: ¿Cuántas filas/datos hay para analizar?"
   ]
  },
  {
   "cell_type": "markdown",
   "metadata": {
    "id": "8T_3enyVHYJa"
   },
   "source": [
    "# Explorar datos\n",
    "<div align=\"center\"><img src=\"https://raw.githubusercontent.com/InoveAlumnos/dataset_analytics_python/master/images/Pipeline3.png\" width=\"1000\" align=\"middle\"></div>"
   ]
  },
  {
   "cell_type": "code",
   "execution_count": null,
   "metadata": {
    "colab": {
     "base_uri": "https://localhost:8080/",
     "height": 374
    },
    "executionInfo": {
     "elapsed": 2524,
     "status": "ok",
     "timestamp": 1604963004689,
     "user": {
      "displayName": "inove",
      "photoUrl": "https://lh3.googleusercontent.com/a-/AOh14GhXN9lpkKFLA5gp8tW9cD3CZ1yGa9DUy9HZOgZm=s64",
      "userId": "03494171924251581304"
     },
     "user_tz": 180
    },
    "id": "AT6v5vGXhfTl",
    "outputId": "ce0794f1-1f35-4400-e606-41281dfb37df"
   },
   "outputs": [],
   "source": [
    "# Observar todas las relaciones entre el feature del producto bruto interno\n",
    "# y los siguientes features\n",
    "# Utilizar pairplot con y_vars=['gdpp']\n",
    "# Utilizar pairplot con x_vars=['exports', 'income', 'life_expec', 'inflation']\n",
    "# Recordar desactivar la diagonal(diag_kind=None,)"
   ]
  },
  {
   "cell_type": "markdown",
   "metadata": {
    "id": "SpQJkiFyJjDy"
   },
   "source": [
    "Deberían observar que a medida que aumenta el producto bruto interno aumenta la exportación, el ingreso por persona (incoma), la expectativa de vida (life_expec) y baja la inflación (inflation). Este parámetro lo debe utilizar luego para determinar si los paises segmentados son:\n",
    "- desarrollados\n",
    "- en_desarrollo\n",
    "- subdesarrollados"
   ]
  },
  {
   "cell_type": "markdown",
   "metadata": {
    "id": "2gRIv88AKfQY"
   },
   "source": [
    "# Entrenar modelo\n",
    "<div align=\"center\"><img src=\"https://raw.githubusercontent.com/InoveAlumnos/dataset_analytics_python/master/images/Pipeline4.png\" width=\"1000\" align=\"middle\"></div>"
   ]
  },
  {
   "cell_type": "code",
   "execution_count": null,
   "metadata": {
    "executionInfo": {
     "elapsed": 2514,
     "status": "ok",
     "timestamp": 1604963004691,
     "user": {
      "displayName": "inove",
      "photoUrl": "https://lh3.googleusercontent.com/a-/AOh14GhXN9lpkKFLA5gp8tW9cD3CZ1yGa9DUy9HZOgZm=s64",
      "userId": "03494171924251581304"
     },
     "user_tz": 180
    },
    "id": "vstdWr9uiMEr"
   },
   "outputs": [],
   "source": [
    "# Almuno: Crear un numpy array \"X\" con los features de entrada expecto el nombre del pais (country)"
   ]
  },
  {
   "cell_type": "markdown",
   "metadata": {
    "id": "dD2Qeok9ybNx"
   },
   "source": [
    "#### Crear un modelo de segmentación con Kmeans\n",
    "Parámetros\n",
    "- n_clusters --> (k) número de clusters/grupos (defecto 5)\n",
    "- init --> método utilizado para determianr donde comienzan los clusters\n",
    " - k-means++ --> mecanismo inteligente para determinar el comienzo (defecto)\n",
    " - random --> los centros se determinarn aleatoriamente\n",
    "- max_iter --> cantidad de iteración (defecto 300)"
   ]
  },
  {
   "cell_type": "code",
   "execution_count": null,
   "metadata": {
    "executionInfo": {
     "elapsed": 2795,
     "status": "ok",
     "timestamp": 1604963004982,
     "user": {
      "displayName": "inove",
      "photoUrl": "https://lh3.googleusercontent.com/a-/AOh14GhXN9lpkKFLA5gp8tW9cD3CZ1yGa9DUy9HZOgZm=s64",
      "userId": "03494171924251581304"
     },
     "user_tz": 180
    },
    "id": "k5K0rKwthUqy"
   },
   "outputs": [],
   "source": [
    "# Almuno: Entrenar un modelo de Kmeans en un rango de cluster (2, 10)\n",
    "# Conservar el resultado de \"inertial\" para utilizar como métrica de selccion"
   ]
  },
  {
   "cell_type": "code",
   "execution_count": null,
   "metadata": {
    "colab": {
     "base_uri": "https://localhost:8080/",
     "height": 265
    },
    "executionInfo": {
     "elapsed": 3149,
     "status": "ok",
     "timestamp": 1604963005347,
     "user": {
      "displayName": "inove",
      "photoUrl": "https://lh3.googleusercontent.com/a-/AOh14GhXN9lpkKFLA5gp8tW9cD3CZ1yGa9DUy9HZOgZm=s64",
      "userId": "03494171924251581304"
     },
     "user_tz": 180
    },
    "id": "7FAigant1EkS",
    "outputId": "c23ab3d9-b02c-4e99-d3bb-5def251f35bd"
   },
   "outputs": [],
   "source": [
    "# Dibujar la evolucion del error (inertia) y deteminar el \n",
    "# punto de quiebre (elbow point)"
   ]
  },
  {
   "cell_type": "markdown",
   "metadata": {
    "id": "ejMxjkYOKb1S"
   },
   "source": [
    "Se puede observar que el punto de elbow podría ser con cluster=4, pero ya sabemos de ante mano que queremos dividir el dataset en 3 grupos, utilizaremos n_clusters=3"
   ]
  },
  {
   "cell_type": "code",
   "execution_count": null,
   "metadata": {
    "executionInfo": {
     "elapsed": 3141,
     "status": "ok",
     "timestamp": 1604963005350,
     "user": {
      "displayName": "inove",
      "photoUrl": "https://lh3.googleusercontent.com/a-/AOh14GhXN9lpkKFLA5gp8tW9cD3CZ1yGa9DUy9HZOgZm=s64",
      "userId": "03494171924251581304"
     },
     "user_tz": 180
    },
    "id": "fivxbc9PEFOu"
   },
   "outputs": [],
   "source": [
    "# Alumno: Entrenar el modelo con el mejor n_clusters=3\n",
    "# y determinar los labels"
   ]
  },
  {
   "cell_type": "code",
   "execution_count": null,
   "metadata": {
    "executionInfo": {
     "elapsed": 3137,
     "status": "ok",
     "timestamp": 1604963005353,
     "user": {
      "displayName": "inove",
      "photoUrl": "https://lh3.googleusercontent.com/a-/AOh14GhXN9lpkKFLA5gp8tW9cD3CZ1yGa9DUy9HZOgZm=s64",
      "userId": "03494171924251581304"
     },
     "user_tz": 180
    },
    "id": "ad76vntQ1jzs"
   },
   "outputs": [],
   "source": [
    "# Alumno: Sumar la columna de labels con el nombre de countryseg (customer segmentation)\n",
    "# a su dataset"
   ]
  },
  {
   "cell_type": "markdown",
   "metadata": {
    "id": "Y1HVAZeONzsu"
   },
   "source": [
    "# Validar modelo\n",
    "<img src=\"https://raw.githubusercontent.com/InoveAlumnos/dataset_analytics_python/master/images/Pipeline5.png\" width=\"1000\" align=\"middle\">"
   ]
  },
  {
   "cell_type": "code",
   "execution_count": null,
   "metadata": {
    "colab": {
     "base_uri": "https://localhost:8080/"
    },
    "executionInfo": {
     "elapsed": 3131,
     "status": "ok",
     "timestamp": 1604963005354,
     "user": {
      "displayName": "inove",
      "photoUrl": "https://lh3.googleusercontent.com/a-/AOh14GhXN9lpkKFLA5gp8tW9cD3CZ1yGa9DUy9HZOgZm=s64",
      "userId": "03494171924251581304"
     },
     "user_tz": 180
    },
    "id": "SNyj1SjfMZso",
    "outputId": "958dad09-a788-4231-a93c-10c79f2a7636"
   },
   "outputs": [],
   "source": [
    "# Alumno: Calcular la exactitud (accuracy) del modelo"
   ]
  },
  {
   "cell_type": "markdown",
   "metadata": {
    "id": "JZZbCJICOFjb"
   },
   "source": [
    "# Utilizar modelo\n",
    "<img src=\"https://raw.githubusercontent.com/InoveAlumnos/dataset_analytics_python/master/images/Pipeline6.png\" width=\"1000\" align=\"middle\">"
   ]
  },
  {
   "cell_type": "code",
   "execution_count": null,
   "metadata": {
    "colab": {
     "base_uri": "https://localhost:8080/",
     "height": 374
    },
    "executionInfo": {
     "elapsed": 4931,
     "status": "ok",
     "timestamp": 1604963007165,
     "user": {
      "displayName": "inove",
      "photoUrl": "https://lh3.googleusercontent.com/a-/AOh14GhXN9lpkKFLA5gp8tW9cD3CZ1yGa9DUy9HZOgZm=s64",
      "userId": "03494171924251581304"
     },
     "user_tz": 180
    },
    "id": "Si_GLqaRN-nK",
    "outputId": "4958b73b-4a41-42f9-8892-6963053bda8b"
   },
   "outputs": [],
   "source": [
    "# Alumno: Volver a repetir el gráfico de pairplot que realizó antes\n",
    "# con ['exports', 'income', 'life_expec', 'inflation']\n",
    "# pero ahora utilizando para hue la columna countryseg"
   ]
  },
  {
   "cell_type": "code",
   "execution_count": null,
   "metadata": {
    "executionInfo": {
     "elapsed": 4928,
     "status": "ok",
     "timestamp": 1604963007168,
     "user": {
      "displayName": "inove",
      "photoUrl": "https://lh3.googleusercontent.com/a-/AOh14GhXN9lpkKFLA5gp8tW9cD3CZ1yGa9DUy9HZOgZm=s64",
      "userId": "03494171924251581304"
     },
     "user_tz": 180
    },
    "id": "ygFB2v82MrfD"
   },
   "outputs": [],
   "source": [
    "# Alumno: viendo los gráficos, principalmente el de ingresos (income), deteminar\n",
    "# la categoría de cada cluster y colocarla en una columna countrycat.\n",
    "# Utilizar lambda expresion en función de country_seg para crear\n",
    "# esa nueva coulmna\n",
    "# - desarrollado\n",
    "# - desarrollandose\n",
    "# - subdesarrollado"
   ]
  },
  {
   "cell_type": "code",
   "execution_count": null,
   "metadata": {
    "executionInfo": {
     "elapsed": 4921,
     "status": "ok",
     "timestamp": 1604963007169,
     "user": {
      "displayName": "inove",
      "photoUrl": "https://lh3.googleusercontent.com/a-/AOh14GhXN9lpkKFLA5gp8tW9cD3CZ1yGa9DUy9HZOgZm=s64",
      "userId": "03494171924251581304"
     },
     "user_tz": 180
    },
    "id": "woflIqPkNHL-"
   },
   "outputs": [],
   "source": []
  },
  {
   "cell_type": "code",
   "execution_count": null,
   "metadata": {
    "colab": {
     "base_uri": "https://localhost:8080/",
     "height": 363
    },
    "executionInfo": {
     "elapsed": 6119,
     "status": "ok",
     "timestamp": 1604963008376,
     "user": {
      "displayName": "inove",
      "photoUrl": "https://lh3.googleusercontent.com/a-/AOh14GhXN9lpkKFLA5gp8tW9cD3CZ1yGa9DUy9HZOgZm=s64",
      "userId": "03494171924251581304"
     },
     "user_tz": 180
    },
    "id": "lP2YZQ2XNB78",
    "outputId": "b3ed6df1-3449-4d64-ec1e-98ca2b7891e9"
   },
   "outputs": [],
   "source": [
    "# Alumno: volver a graficar el gráfico anterior pero ahora usando en \n",
    "# en hue = 'countrycat'"
   ]
  },
  {
   "cell_type": "code",
   "execution_count": null,
   "metadata": {
    "colab": {
     "base_uri": "https://localhost:8080/",
     "height": 279
    },
    "executionInfo": {
     "elapsed": 6110,
     "status": "ok",
     "timestamp": 1604963008379,
     "user": {
      "displayName": "inove",
      "photoUrl": "https://lh3.googleusercontent.com/a-/AOh14GhXN9lpkKFLA5gp8tW9cD3CZ1yGa9DUy9HZOgZm=s64",
      "userId": "03494171924251581304"
     },
     "user_tz": 180
    },
    "id": "FLmeP3LNL4Cq",
    "outputId": "e383959e-404f-4e40-8f6e-0ac8b99e16e9"
   },
   "outputs": [],
   "source": [
    "# Alumno: Determinar cuantas países hay en cada categoría\n",
    "# utilizando el gráfico de seaborn countplot en la columna countrycat"
   ]
  },
  {
   "cell_type": "markdown",
   "metadata": {
    "id": "YF8gLtw2NuWf"
   },
   "source": [
    "Bueno ahora a jugar! Ahora puede buscar en su dataset algún país en general y ver su categoría según el modelo que armó"
   ]
  },
  {
   "cell_type": "markdown",
   "metadata": {
    "id": "IRxYtoaMPEQI"
   },
   "source": [
    "# Conclusión\n",
    "<img src=\"https://raw.githubusercontent.com/InoveAlumnos/dataset_analytics_python/master/images/Pipeline7.png\" width=\"1000\" align=\"middle\">"
   ]
  }
 ],
 "metadata": {
  "colab": {
   "collapsed_sections": [],
   "name": "1_segmentacion_paises.ipynb",
   "provenance": [],
   "toc_visible": true
  },
  "kernelspec": {
   "display_name": "Python 3",
   "language": "python",
   "name": "python3"
  },
  "language_info": {
   "codemirror_mode": {
    "name": "ipython",
    "version": 3
   },
   "file_extension": ".py",
   "mimetype": "text/x-python",
   "name": "python",
   "nbconvert_exporter": "python",
   "pygments_lexer": "ipython3",
   "version": "3.7.0"
  }
 },
 "nbformat": 4,
 "nbformat_minor": 4
}
