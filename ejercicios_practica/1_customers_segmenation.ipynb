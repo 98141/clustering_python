
{
 "cells": [
  {
   "cell_type": "markdown",
   "metadata": {
    "id": "Ea9CPlvttQda"
   },
   "source": [
    "<a href=\"https://www.inove.com.ar\"><img src=\"https://raw.githubusercontent.com/InoveAlumnos/dataset_analytics_python/master/images/PA%20Banner.png\" width=\"1000\" align=\"center\"></a>\n",
    "\n",
    "\n",
    "# Segmentación de clientes\n",
    "\n",
    "Crear un modelo de segmentación para la estimación de los tipos de clientes que van de compras a un shoping<br>\n",
    "v1.1"
   ]
  },
  {
   "cell_type": "code",
   "execution_count": null,
   "metadata": {
    "executionInfo": {
     "elapsed": 1920,
     "status": "ok",
     "timestamp": 1604852479368,
     "user": {
      "displayName": "inove",
      "photoUrl": "https://lh3.googleusercontent.com/a-/AOh14GhXN9lpkKFLA5gp8tW9cD3CZ1yGa9DUy9HZOgZm=s64",
      "userId": "03494171924251581304"
     },
     "user_tz": 180
    },
    "id": "xJN8ND5ctQdc"
   },
   "outputs": [],
   "source": [
    "import os\n",
    "import platform\n",
    "\n",
    "import numpy as np\n",
    "import matplotlib.pyplot as plt\n",
    "import seaborn as sns\n",
    "import pandas as pd"
   ]
  },
  {
   "cell_type": "markdown",
   "metadata": {
    "id": "v-jK-TsQCwW9"
   },
   "source": [
    "# Recolectar datos\n",
    "<div align=\"center\"><img src=\"https://raw.githubusercontent.com/InoveAlumnos/dataset_analytics_python/master/images/Pipeline1.png\" width=\"1000\" align=\"middle\"></div>"
   ]
  },
  {
   "cell_type": "code",
   "execution_count": null,
   "metadata": {
    "colab": {
     "base_uri": "https://localhost:8080/"
    },
    "executionInfo": {
     "elapsed": 1133,
     "status": "ok",
     "timestamp": 1604853011216,
     "user": {
      "displayName": "inove",
      "photoUrl": "https://lh3.googleusercontent.com/a-/AOh14GhXN9lpkKFLA5gp8tW9cD3CZ1yGa9DUy9HZOgZm=s64",
      "userId": "03494171924251581304"
     },
     "user_tz": 180
    },
    "id": "E7lED92mqYMN",
    "outputId": "358071f8-fbc1-4361-e333-9325ab1a6fac"
   },
   "outputs": [],
   "source": [
    "if os.access('Mall_Customers.csv', os.F_OK) is False:\n",
    "    if platform.system() == 'Windows':\n",
    "        !curl https://raw.githubusercontent.com/InoveAlumnos/dataset_analytics_python/master/Mall_Customers.csv > Mall_Customers.csv\n",
    "    else:\n",
    "        !wget Mall_Customers.csv https://raw.githubusercontent.com/InoveAlumnos/dataset_analytics_python/master/Mall_Customers.csv"
   ]
  },
  {
   "cell_type": "markdown",
   "metadata": {
    "id": "7hYHWckmsssa"
   },
   "source": [
    "### `Mall_Customers.csv`:\n",
    "El dataset **`Mall_Customers.csv`** contiene datos sobre clientes que asisten al shopping a comprar, y sus características de consumo.<br>\n",
    "[Dataset source](https://www.kaggle.com/vjchoudhary7/customer-segmentation-tutorial-in-python)\n",
    "- **CustomerID** --> id del comprador, ejemplo 5\n",
    "- **Gender** --> género, masculino (Male) o femenino (female)\n",
    "- **Age** --> edad\n",
    "- **Annual Income** --> ingreso de dinero anual de la persona en miles de dolares\n",
    "- **Spending socre** --> que tan gastador es la persona (de 1 a 100)"
   ]
  },
  {
   "cell_type": "code",
   "execution_count": null,
   "metadata": {
    "executionInfo": {
     "elapsed": 797,
     "status": "ok",
     "timestamp": 1604853127634,
     "user": {
      "displayName": "inove",
      "photoUrl": "https://lh3.googleusercontent.com/a-/AOh14GhXN9lpkKFLA5gp8tW9cD3CZ1yGa9DUy9HZOgZm=s64",
      "userId": "03494171924251581304"
     },
     "user_tz": 180
    },
    "id": "GChnsEZeszqi"
   },
   "outputs": [],
   "source": [
    "df = pd.read_csv(\"Mall_Customers.csv\")"
   ]
  },
  {
   "cell_type": "markdown",
   "metadata": {
    "id": "Q5I6l8ZCFaZ8"
   },
   "source": [
    "# Procesar datos\n",
    "<div align=\"center\"><img src=\"https://raw.githubusercontent.com/InoveAlumnos/dataset_analytics_python/master/images/Pipeline2.png\" width=\"1000\" align=\"middle\"></div>"
   ]
  },
  {
   "cell_type": "code",
   "execution_count": null,
   "metadata": {
    "colab": {
     "base_uri": "https://localhost:8080/",
     "height": 204
    },
    "executionInfo": {
     "elapsed": 962,
     "status": "ok",
     "timestamp": 1604853147070,
     "user": {
      "displayName": "inove",
      "photoUrl": "https://lh3.googleusercontent.com/a-/AOh14GhXN9lpkKFLA5gp8tW9cD3CZ1yGa9DUy9HZOgZm=s64",
      "userId": "03494171924251581304"
     },
     "user_tz": 180
    },
    "id": "Pp6NRggps5UE",
    "outputId": "c8d67007-78a7-400a-a772-d3a10b9caa58"
   },
   "outputs": [],
   "source": [
    "# Alumno, inspeccione el dataset, visualice las columnas que posee y sus primeras filas"
   ]
  },
  {
   "cell_type": "code",
   "execution_count": null,
   "metadata": {
    "executionInfo": {
     "elapsed": 765,
     "status": "ok",
     "timestamp": 1604853397697,
     "user": {
      "displayName": "inove",
      "photoUrl": "https://lh3.googleusercontent.com/a-/AOh14GhXN9lpkKFLA5gp8tW9cD3CZ1yGa9DUy9HZOgZm=s64",
      "userId": "03494171924251581304"
     },
     "user_tz": 180
    },
    "id": "7Sx5a9IetWLs"
   },
   "outputs": [],
   "source": [
    "# Alumno: Los algoritmos de clustering no funcionan bien con las variables categóricas, \n",
    "# obtener un nuevo dataset (df2) sin la columna CustomerID y Gender"
   ]
  },
  {
   "cell_type": "code",
   "execution_count": null,
   "metadata": {
    "colab": {
     "base_uri": "https://localhost:8080/",
     "height": 359
    },
    "executionInfo": {
     "elapsed": 784,
     "status": "ok",
     "timestamp": 1604853440849,
     "user": {
      "displayName": "inove",
      "photoUrl": "https://lh3.googleusercontent.com/a-/AOh14GhXN9lpkKFLA5gp8tW9cD3CZ1yGa9DUy9HZOgZm=s64",
      "userId": "03494171924251581304"
     },
     "user_tz": 180
    },
    "id": "fQ3bTC9Ot5-h",
    "outputId": "9991f1c4-a5cb-4443-e089-953cdc2b0a85"
   },
   "outputs": [],
   "source": [
    "# Alumno, realice una inspeccion del dataset en búsqueda de elementos faltantes"
   ]
  },
  {
   "cell_type": "code",
   "execution_count": null,
   "metadata": {
    "colab": {
     "base_uri": "https://localhost:8080/"
    },
    "executionInfo": {
     "elapsed": 792,
     "status": "ok",
     "timestamp": 1604853450966,
     "user": {
      "displayName": "inove",
      "photoUrl": "https://lh3.googleusercontent.com/a-/AOh14GhXN9lpkKFLA5gp8tW9cD3CZ1yGa9DUy9HZOgZm=s64",
      "userId": "03494171924251581304"
     },
     "user_tz": 180
    },
    "id": "x88JG9AOeJzx",
    "outputId": "90a1082c-0644-4f26-bfbf-570b7db42e80"
   },
   "outputs": [],
   "source": [
    "# Alumno: ¿Cuántas filas/datos hay para analizar?"
   ]
  },
  {
   "cell_type": "markdown",
   "metadata": {
    "id": "8T_3enyVHYJa"
   },
   "source": [
    "# Explorar datos\n",
    "<div align=\"center\"><img src=\"https://raw.githubusercontent.com/InoveAlumnos/dataset_analytics_python/master/images/Pipeline3.png\" width=\"1000\" align=\"middle\"></div>"
   ]
  },
  {
   "cell_type": "code",
   "execution_count": null,
   "metadata": {
    "colab": {
     "base_uri": "https://localhost:8080/",
     "height": 567
    },
    "executionInfo": {
     "elapsed": 4663,
     "status": "ok",
     "timestamp": 1604853858665,
     "user": {
      "displayName": "inove",
      "photoUrl": "https://lh3.googleusercontent.com/a-/AOh14GhXN9lpkKFLA5gp8tW9cD3CZ1yGa9DUy9HZOgZm=s64",
      "userId": "03494171924251581304"
     },
     "user_tz": 180
    },
    "id": "AT6v5vGXhfTl",
    "outputId": "9030facd-76fb-4088-a435-2ab8913b4412"
   },
   "outputs": [],
   "source": [
    "# Observar todas las relaciones entre todos los features, utilizar pairplot"
   ]
  },
  {
   "cell_type": "code",
   "execution_count": null,
   "metadata": {
    "colab": {
     "base_uri": "https://localhost:8080/",
     "height": 279
    },
    "executionInfo": {
     "elapsed": 855,
     "status": "ok",
     "timestamp": 1604854016867,
     "user": {
      "displayName": "inove",
      "photoUrl": "https://lh3.googleusercontent.com/a-/AOh14GhXN9lpkKFLA5gp8tW9cD3CZ1yGa9DUy9HZOgZm=s64",
      "userId": "03494171924251581304"
     },
     "user_tz": 180
    },
    "id": "8EAqWbUmvv0B",
    "outputId": "3f03f779-5122-4362-f644-1a1fb3a4fcc7"
   },
   "outputs": [],
   "source": [
    "# Alumno: Se puede observar que donde se ve claramente una segmentación de grupos\n",
    "# en en la relación de \"Annual Income\" y \"Spending Socre\"\n",
    "# Graficar unicamente la relación x=Annual Income con y=SpendingScore\n",
    "# con un scatter plot"
   ]
  },
  {
   "cell_type": "markdown",
   "metadata": {
    "id": "2gRIv88AKfQY"
   },
   "source": [
    "# Entrenar modelo\n",
    "<div align=\"center\"><img src=\"https://raw.githubusercontent.com/InoveAlumnos/dataset_analytics_python/master/images/Pipeline4.png\" width=\"1000\" align=\"middle\"></div>"
   ]
  },
  {
   "cell_type": "code",
   "execution_count": null,
   "metadata": {
    "executionInfo": {
     "elapsed": 778,
     "status": "ok",
     "timestamp": 1604854082951,
     "user": {
      "displayName": "inove",
      "photoUrl": "https://lh3.googleusercontent.com/a-/AOh14GhXN9lpkKFLA5gp8tW9cD3CZ1yGa9DUy9HZOgZm=s64",
      "userId": "03494171924251581304"
     },
     "user_tz": 180
    },
    "id": "vstdWr9uiMEr"
   },
   "outputs": [],
   "source": [
    "# Almuno: Crear un numpy array \"X\" con los features de entrada (Annual Income y Spending Score)"
   ]
  },
  {
   "cell_type": "markdown",
   "metadata": {
    "id": "dD2Qeok9ybNx"
   },
   "source": [
    "#### Crear un modelo de segmentación con Kmeans\n",
    "Parámetros\n",
    "- n_clusters --> (k) número de clusters/grupos (defecto 5)\n",
    "- init --> método utilizado para determianr donde comienzan los clusters\n",
    " - k-means++ --> mecanismo inteligente para determinar el comienzo (defecto)\n",
    " - random --> los centros se determinarn aleatoriamente\n",
    "- max_iter --> cantidad de iteración (defecto 300)"
   ]
  },
  {
   "cell_type": "code",
   "execution_count": null,
   "metadata": {
    "colab": {
     "base_uri": "https://localhost:8080/"
    },
    "executionInfo": {
     "elapsed": 1178,
     "status": "ok",
     "timestamp": 1604855884542,
     "user": {
      "displayName": "inove",
      "photoUrl": "https://lh3.googleusercontent.com/a-/AOh14GhXN9lpkKFLA5gp8tW9cD3CZ1yGa9DUy9HZOgZm=s64",
      "userId": "03494171924251581304"
     },
     "user_tz": 180
    },
    "id": "k5K0rKwthUqy",
    "outputId": "69bc3bf9-829c-423e-934b-884ebefee3e4"
   },
   "outputs": [],
   "source": [
    "# Almuno: Entrenar diferentes modelos de Kmeans en un rango de cluster (2, 10)\n",
    "# Conservar el resultado de \"inertial\" para utilizar como métrica de selccion"
   ]
  },
  {
   "cell_type": "code",
   "execution_count": null,
   "metadata": {
    "colab": {
     "base_uri": "https://localhost:8080/",
     "height": 282
    },
    "executionInfo": {
     "elapsed": 1104,
     "status": "ok",
     "timestamp": 1604855938672,
     "user": {
      "displayName": "inove",
      "photoUrl": "https://lh3.googleusercontent.com/a-/AOh14GhXN9lpkKFLA5gp8tW9cD3CZ1yGa9DUy9HZOgZm=s64",
      "userId": "03494171924251581304"
     },
     "user_tz": 180
    },
    "id": "7FAigant1EkS",
    "outputId": "afbd90b5-3351-40fc-ed6d-f67b27ae48db"
   },
   "outputs": [],
   "source": [
    "# Dibujar la evolucion del error (inertia) y deteminar el \n",
    "# punto de quiebre (elbow point) para deteminar el mejor k"
   ]
  },
  {
   "cell_type": "code",
   "execution_count": null,
   "metadata": {
    "executionInfo": {
     "elapsed": 776,
     "status": "ok",
     "timestamp": 1604855941551,
     "user": {
      "displayName": "inove",
      "photoUrl": "https://lh3.googleusercontent.com/a-/AOh14GhXN9lpkKFLA5gp8tW9cD3CZ1yGa9DUy9HZOgZm=s64",
      "userId": "03494171924251581304"
     },
     "user_tz": 180
    },
    "id": "fivxbc9PEFOu"
   },
   "outputs": [],
   "source": [
    "# Alumno: Entrenar el modelo con el mejor \"K\" encontrado\n",
    "# y determinar los labels"
   ]
  },
  {
   "cell_type": "code",
   "execution_count": null,
   "metadata": {
    "executionInfo": {
     "elapsed": 769,
     "status": "ok",
     "timestamp": 1604855948975,
     "user": {
      "displayName": "inove",
      "photoUrl": "https://lh3.googleusercontent.com/a-/AOh14GhXN9lpkKFLA5gp8tW9cD3CZ1yGa9DUy9HZOgZm=s64",
      "userId": "03494171924251581304"
     },
     "user_tz": 180
    },
    "id": "ad76vntQ1jzs"
   },
   "outputs": [],
   "source": [
    "# Alumno: Sumar la columna de labels con el nombre de custseg (customer segmentation)\n",
    "# a su dataset"
   ]
  },
  {
   "cell_type": "markdown",
   "metadata": {
    "id": "Y1HVAZeONzsu"
   },
   "source": [
    "# Validar modelo\n",
    "<img src=\"https://raw.githubusercontent.com/InoveAlumnos/dataset_analytics_python/master/images/Pipeline5.png\" width=\"1000\" align=\"middle\">"
   ]
  },
  {
   "cell_type": "code",
   "execution_count": null,
   "metadata": {
    "colab": {
     "base_uri": "https://localhost:8080/"
    },
    "executionInfo": {
     "elapsed": 752,
     "status": "ok",
     "timestamp": 1604855952383,
     "user": {
      "displayName": "inove",
      "photoUrl": "https://lh3.googleusercontent.com/a-/AOh14GhXN9lpkKFLA5gp8tW9cD3CZ1yGa9DUy9HZOgZm=s64",
      "userId": "03494171924251581304"
     },
     "user_tz": 180
    },
    "id": "SNyj1SjfMZso",
    "outputId": "f7d87b47-d4cb-4e2a-891f-ecc01410ee44"
   },
   "outputs": [],
   "source": [
    "# Alumno: Calcular la exactitud (accuracy) del modelo"
   ]
  },
  {
   "cell_type": "markdown",
   "metadata": {
    "id": "JZZbCJICOFjb"
   },
   "source": [
    "# Utilizar modelo\n",
    "<img src=\"https://raw.githubusercontent.com/InoveAlumnos/dataset_analytics_python/master/images/Pipeline6.png\" width=\"1000\" align=\"middle\">"
   ]
  },
  {
   "cell_type": "code",
   "execution_count": null,
   "metadata": {
    "colab": {
     "base_uri": "https://localhost:8080/",
     "height": 279
    },
    "executionInfo": {
     "elapsed": 2160,
     "status": "ok",
     "timestamp": 1604856199746,
     "user": {
      "displayName": "inove",
      "photoUrl": "https://lh3.googleusercontent.com/a-/AOh14GhXN9lpkKFLA5gp8tW9cD3CZ1yGa9DUy9HZOgZm=s64",
      "userId": "03494171924251581304"
     },
     "user_tz": 180
    },
    "id": "Si_GLqaRN-nK",
    "outputId": "29b5a458-4733-46f7-b97e-20854ed6e63e"
   },
   "outputs": [],
   "source": [
    "# Alumno: Volver a repetir el gráfico de scatter \"Annual Income\" y \"Spending Socre\"\n",
    "# pero ahora coloreando con \"hue\" los puntos según su clase de custseg"
   ]
  }
 ],
 "metadata": {
  "colab": {
   "collapsed_sections": [],
   "name": "1_customers_segmenation.ipynb",
   "provenance": [],
   "toc_visible": true
  },
  "kernelspec": {
   "display_name": "Python 3",
   "language": "python",
   "name": "python3"
  },
  "language_info": {
   "codemirror_mode": {
    "name": "ipython",
    "version": 3
   },
   "file_extension": ".py",
   "mimetype": "text/x-python",
   "name": "python",
   "nbconvert_exporter": "python",
   "pygments_lexer": "ipython3",
   "version": "3.7.0"
  }
 },
 "nbformat": 4,
 "nbformat_minor": 4
}
